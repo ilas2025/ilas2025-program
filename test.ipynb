{
 "cells": [
  {
   "cell_type": "markdown",
   "metadata": {},
   "source": [
    "### Load data\n",
    "\n",
    "- ST: SESSION --> START, TIIME_DELTA\n",
    "- SRM: ROOM, SESSION --> TYPE\n",
    "- SRP: SESSION, ROOM, S_ORDER --> FIRST_NAME, LAST_NAME"
   ]
  },
  {
   "cell_type": "code",
   "execution_count": null,
   "metadata": {},
   "outputs": [],
   "source": [
    "from urllib.request import urlretrieve\n",
    "\n",
    "URLS = {\n",
    "    \"minis.csv\": \"https://docs.google.com/spreadsheets/d/1IQkcuu7cRXA5wlwMJspwSSfZNHIdXoapZBKufdFIayc/export?format=csv&gid=0\", \n",
    "    \"ST.csv\": \"https://docs.google.com/spreadsheets/d/1IQkcuu7cRXA5wlwMJspwSSfZNHIdXoapZBKufdFIayc/export?format=csv&gid=1165578014\", \n",
    "    \"SRM.csv\": \"https://docs.google.com/spreadsheets/d/1IQkcuu7cRXA5wlwMJspwSSfZNHIdXoapZBKufdFIayc/export?format=csv&gid=244777042\", \n",
    "    \"SRP.csv\": \"https://docs.google.com/spreadsheets/d/1IQkcuu7cRXA5wlwMJspwSSfZNHIdXoapZBKufdFIayc/export?format=csv&gid=1456705243\" \n",
    "}\n",
    "\n",
    "for filename, url in URLS.items():\n",
    "    urlretrieve(url, filename)"
   ]
  },
  {
   "cell_type": "code",
   "execution_count": null,
   "metadata": {},
   "outputs": [],
   "source": [
    "# global DataFrame\n",
    "import re\n",
    "import pandas as pd\n",
    "\n",
    "minis = pd.read_csv(\"minis.csv\").set_index(\"MID\")\n",
    "minis.loc[\"TMS\"] = [\"Test mini-symposium\", \"Test organizers\", 0]\n",
    "minis.loc[\"CT\"] = [\"Contributed talks\", \"\", 0]\n",
    "\n",
    "SESSION_NAMES = {\n",
    "    \"Reg\": \"Registration\", \n",
    "    \"OR\": \"Opening Remarks\", \n",
    "    \"Rec\": \"Reception\", \n",
    "    \"Photo\": \"Photo\", \n",
    "    \"BM\": \"Business Meeting\", \n",
    "    \"E\": \"Excursion\", \n",
    "    \"Ban\": \"Banquet\", \n",
    "    \"CR\": \"Closing Remarks\"\n",
    "}\n",
    "for s,num,name in [(\"P\",10,\"Plenary Talk\"), (\"CB\",8,\"Coffee Break\"), (\"S\",11,\"Mini-symposium\"), (\"LB\",4,\"Lunch Break\")]:\n",
    "    for t in range(1, num + 1):\n",
    "        SESSION_NAMES[s + \"%d\"%t] = name\n",
    "SESSION_NAMES[\"S3\"] = \"Contributed Session\"\n",
    "SESSION_NAMES[\"S11\"] = \"Contributed Session\"\n",
    "\n",
    "SESSION_VENUES = {\n",
    "    \"Reg\": \"SYS Hall\", \n",
    "    \"OR\": \"SYS Hall\", \n",
    "    \"Rec\": \"College of Science\", \n",
    "    \"Photo\": \"SYS Hall\", \n",
    "    \"BM\": \"SYS Hall\", \n",
    "    \"E\": \"Meet at SYS Hall\", \n",
    "    \"Ban\": \"College of Science\", \n",
    "    \"CR\": \"SYS Hall\"\n",
    "}\n",
    "for s,num,name in [(\"P\",10,\"SYS Hall\"), (\"CB\",8,\"College of Science\"), (\"S\",11,\"College of Science\"), (\"LB\",4,\"\")]:\n",
    "    for t in range(1, num + 1):\n",
    "        SESSION_VENUES[s + \"%d\"%t] = name\n",
    "\n",
    "def session_weight(name):\n",
    "    if pd.isna(name):\n",
    "        return 1000\n",
    "    if re.match(\"P[0-9]{1,2}$\", name):\n",
    "        return int(name[1:])\n",
    "    if re.match(\"S[0-9]{1,2}$\", name):\n",
    "        return 100 + int(name[1:])\n",
    "\n",
    "def type_weight(name):\n",
    "    if pd.isna(name):\n",
    "        return 1000\n",
    "    if re.match(\"MS[0-9]{1,2}$\", name):\n",
    "        return int(name[2:])\n",
    "    if name == \"CT\":\n",
    "        return 100    \n",
    "\n",
    "st = pd.read_csv(\"ST.csv\")\n",
    "st[\"START\"] = pd.to_datetime(st.START, format=\"%Y-%m-%d %H:%M\")\n",
    "st[\"TIME_DELTA\"] = pd.to_timedelta(st.TIME_DELTA, unit=\"m\")\n",
    "st.insert(2, \"END\", st.START + st.TIME_DELTA)\n",
    "st[\"SESSION_NAME\"] = st.SESSION.apply(lambda x: SESSION_NAMES[x])\n",
    "st[\"SESSION_VENUE\"] = st.SESSION.apply(lambda x: SESSION_VENUES[x])\n",
    "st[\"START_STR\"] = st.START.dt.strftime(\"%H:%M\")\n",
    "st[\"END_STR\"] = st.END.dt.strftime(\"%H:%M\")\n",
    "st.set_index(\"SESSION\", inplace=True)\n",
    "\n",
    "srm = pd.read_csv(\"SRM.csv\", header=1).set_index(\"ROOM\")\n",
    "\n",
    "srp = pd.read_csv(\"SRP.csv\")\n",
    "srp[\"FULL_NAME\"] = srp.FIRST_NAME + \" \" + srp.LAST_NAME\n",
    "srp = srp.join(st.loc[:,[\"START\",\"START_STR\",\"END_STR\"]], on=\"SESSION\")\n",
    "srp.insert(7, \"WEEKDAY\", srp.START.dt.strftime(\"%A\"))\n",
    "ms_mask = srp.SESSION.str.match(\"S[0-9]{1,2}$\")\n",
    "srp.loc[ms_mask,\"START_STR\"] = (srp.loc[ms_mask,\"START\"] + pd.to_timedelta(30 * (srp.loc[ms_mask,\"S_ORDER\"] - 1), \"m\")).dt.strftime(\"%H:%M\")\n",
    "srp.loc[ms_mask,\"END_STR\"] = (srp.loc[ms_mask,\"START\"] + pd.to_timedelta(30 * srp.loc[ms_mask,\"S_ORDER\"], \"m\")).dt.strftime(\"%H:%M\")\n",
    "srp.insert(7, \"TYPE\", None)\n",
    "srp.insert(8, \"MS_TITLE\", None)\n",
    "srp.loc[ms_mask,\"TYPE\"] = srp.loc[ms_mask].apply(lambda x: srm.loc[x.ROOM, x.SESSION], axis=1)\n",
    "srp.loc[ms_mask,\"MS_TITLE\"] = srp.loc[ms_mask].apply(lambda x: minis.TITLE[x.TYPE] if pd.notna(x.TYPE) else x.TYPE, axis=1)\n",
    "srp[\"SESSION_ORDER\"] = srp.SESSION.apply(session_weight)\n",
    "srp[\"TYPE_ORDER\"] = srp.TYPE.apply(type_weight)\n",
    "srp = srp.set_index([\"SESSION\",\"ROOM\",\"S_ORDER\"])"
   ]
  },
  {
   "cell_type": "code",
   "execution_count": null,
   "metadata": {},
   "outputs": [],
   "source": [
    "# minis.head()\n",
    "# st.head()\n",
    "srp.head()\n",
    "# srp.loc[ms_mask].head()\n",
    "# srm.head()"
   ]
  },
  {
   "cell_type": "code",
   "execution_count": null,
   "metadata": {},
   "outputs": [],
   "source": []
  },
  {
   "cell_type": "code",
   "execution_count": null,
   "metadata": {},
   "outputs": [],
   "source": []
  },
  {
   "cell_type": "code",
   "execution_count": null,
   "metadata": {},
   "outputs": [],
   "source": []
  },
  {
   "cell_type": "code",
   "execution_count": null,
   "metadata": {},
   "outputs": [],
   "source": []
  },
  {
   "cell_type": "code",
   "execution_count": null,
   "metadata": {},
   "outputs": [],
   "source": []
  },
  {
   "cell_type": "markdown",
   "metadata": {},
   "source": [
    "### SRP collector"
   ]
  },
  {
   "cell_type": "code",
   "execution_count": null,
   "metadata": {},
   "outputs": [],
   "source": [
    "collector_columns = [\"TYPE\",\"MS_TITLE\",\"WEEKDAY\",\"START_STR\",\"END_STR\",\"FIRST_NAME\",\"LAST_NAME\"]\n",
    "\n",
    "srp.sort_values([\"TYPE_ORDER\",\"START\"]).loc[:,collector_columns].to_csv(\"srp-collector.csv\")"
   ]
  },
  {
   "cell_type": "code",
   "execution_count": null,
   "metadata": {},
   "outputs": [],
   "source": [
    "srp_get = pd.read_csv(\"srp-get.csv\")\n",
    "srp_get[\"SESSION_ORDER\"] = srp_get.SESSION.apply(session_weight)\n",
    "srp_columns = [\"SESSION\", \"ROOM\", \"S_ORDER\", \"FIRST_NAME\", \"LAST_NAME\"]\n",
    "srp_get.sort_values([\"SESSION_ORDER\", \"ROOM\", \"S_ORDER\"]).loc[:,srp_columns].to_csv(\"srp-get-sorted.csv\", index=False)"
   ]
  },
  {
   "cell_type": "code",
   "execution_count": null,
   "metadata": {},
   "outputs": [],
   "source": []
  },
  {
   "cell_type": "markdown",
   "metadata": {},
   "source": [
    "### Required functions"
   ]
  },
  {
   "cell_type": "code",
   "execution_count": null,
   "metadata": {},
   "outputs": [],
   "source": [
    "import re\n",
    "import os\n",
    "import subprocess\n",
    "import pandas as pd\n",
    "\n",
    "def cjken(s, prefix=\"\"):\n",
    "    \"\"\"\n",
    "    Input:\n",
    "        s: string\n",
    "    Output:\n",
    "        enclose Chinese with \\CJKEN{...}\n",
    "    \"\"\"\n",
    "    if s != \"\":\n",
    "        return prefix + r\"\\CJKEN{%s}\"%s\n",
    "    else:\n",
    "        return \"\"\n",
    "\n",
    "def write_sr(s_ind, r_ind):\n",
    "    m_ind = srm.loc[r_ind, s_ind]\n",
    "    if pd.isna(m_ind):\n",
    "        return None\n",
    "    presentations = srp.loc[s_ind, r_ind]\n",
    "    f.write(r\"\"\"\\begin{description}\n",
    "    \\item[] \\textbf{%s} \\info{%s}\n",
    "    \"\"\"%(m_ind + \": \" + minis.loc[m_ind,\"TITLE\"], r_ind))\n",
    "\n",
    "    for s_order, row in presentations.iterrows():\n",
    "        f.write(r\"\"\"\\item[\\info{%s\\textrm{--}%s}] \\textbf{%s}, Talk title to be added\n",
    "        \"\"\"%(row.START_STR, row.END_STR, row.FULL_NAME))\n",
    "\n",
    "    f.write(r\"\"\"\\end{description}\n",
    "    \"\"\")\n",
    "\n",
    "def write_a_session(s_ind):\n",
    "    row = st.loc[s_ind]\n",
    "    f.write(r\"\"\"\\item[\\info{%s\\textrm{--}%s}] \\textbf{%s} \\info{%s}\n",
    "    \"\"\"%(row.START_STR, row.END_STR, row.SESSION_NAME, row.SESSION_VENUE))\n",
    "\n",
    "    if re.match(\"P[0-9]{1,2}$\", s_ind):\n",
    "        presentation = srp.loc[s_ind].iloc[0]\n",
    "        f.write(r\"\"\"\\begin{description}\n",
    "        \\item[] \\textbf{%s}, Talk title to be added\n",
    "        \\end{description}\n",
    "        \"\"\"%presentation.FULL_NAME)\n",
    "\n",
    "    if re.match(\"S[0-9]{1,2}$\", s_ind):\n",
    "        s_all_room = srp.loc[s_ind]\n",
    "        for r_ind in srp.loc[s_ind].index.get_level_values(0).unique():\n",
    "            write_sr(s_ind, r_ind)\n",
    "\n",
    "def write_newpage():\n",
    "    f.write(r\"\"\"\\newpage\"\"\"+'\\n\\n')"
   ]
  },
  {
   "cell_type": "markdown",
   "metadata": {},
   "source": [
    "### Schedule"
   ]
  },
  {
   "cell_type": "code",
   "execution_count": null,
   "metadata": {},
   "outputs": [],
   "source": [
    "##### CREATE SCHEDULE.TEX #####\n",
    "import warnings\n",
    "warnings.filterwarnings(\"ignore\", message=\"indexing past lexsort depth may impact performance\")\n",
    "\n",
    "# warnings.warn(\"General warnings still occur\")\n",
    "\n",
    "f = open('schedule.tex','w')\n",
    "\n",
    "### beginning\n",
    "f.write(r\"\"\"\\documentclass[ILAS2025-program.tex]{subfiles}\n",
    "\n",
    "\\begin{document}\n",
    "\n",
    "\"\"\")\n",
    "\n",
    "days = pd.date_range(\"2025-06-23\", \"2025-06-27\")\n",
    "\n",
    "for day in days:\n",
    "    f.write(r\"\"\"\\section{%s}\n",
    "    \n",
    "    \\begin{description}\n",
    "    \"\"\"%day.strftime(\"%A Schedule, %B %d\"))\n",
    "    \n",
    "    today = st.index[st.START.dt.strftime(\"%d\") == day.strftime(\"%d\")]\n",
    "\n",
    "    for s_ind in today:\n",
    "        write_a_session(s_ind)\n",
    "    \n",
    "    f.write(r\"\"\"\\end{description}\n",
    "    \"\"\")\n",
    "    \n",
    "    write_newpage()\n",
    "\n",
    "### ending\n",
    "f.write(r\"\"\"\\end{document}\n",
    "\"\"\")\n",
    "\n",
    "f.close()\n",
    "\n",
    "subprocess.run([\"pdflatex\", \"-interaction=batchmode\", \"ILAS2025-program.tex\"])"
   ]
  },
  {
   "cell_type": "code",
   "execution_count": null,
   "metadata": {},
   "outputs": [],
   "source": []
  },
  {
   "cell_type": "code",
   "execution_count": null,
   "metadata": {},
   "outputs": [],
   "source": []
  },
  {
   "cell_type": "code",
   "execution_count": null,
   "metadata": {},
   "outputs": [],
   "source": []
  },
  {
   "cell_type": "code",
   "execution_count": null,
   "metadata": {},
   "outputs": [],
   "source": []
  },
  {
   "cell_type": "code",
   "execution_count": null,
   "metadata": {},
   "outputs": [],
   "source": []
  },
  {
   "cell_type": "code",
   "execution_count": null,
   "metadata": {},
   "outputs": [],
   "source": []
  },
  {
   "cell_type": "code",
   "execution_count": null,
   "metadata": {},
   "outputs": [],
   "source": []
  },
  {
   "cell_type": "code",
   "execution_count": null,
   "metadata": {},
   "outputs": [],
   "source": []
  },
  {
   "cell_type": "code",
   "execution_count": null,
   "metadata": {},
   "outputs": [],
   "source": []
  },
  {
   "cell_type": "code",
   "execution_count": null,
   "metadata": {},
   "outputs": [],
   "source": []
  },
  {
   "cell_type": "code",
   "execution_count": null,
   "metadata": {},
   "outputs": [],
   "source": []
  },
  {
   "cell_type": "code",
   "execution_count": null,
   "metadata": {},
   "outputs": [],
   "source": []
  },
  {
   "cell_type": "code",
   "execution_count": null,
   "metadata": {},
   "outputs": [],
   "source": []
  },
  {
   "cell_type": "code",
   "execution_count": null,
   "metadata": {},
   "outputs": [],
   "source": []
  },
  {
   "cell_type": "markdown",
   "metadata": {},
   "source": [
    "### Archived"
   ]
  },
  {
   "cell_type": "code",
   "execution_count": null,
   "metadata": {},
   "outputs": [],
   "source": [
    "def write_mtskip():\n",
    "    f.write(r\"\"\"\\mtskip\"\"\"+'\\n\\n')\n",
    "    \n",
    "def write_btskip():\n",
    "    f.write(r\"\"\"\\btskip\"\"\"+'\\n\\n')\n",
    "\n",
    "def write_a_talk(file, data, ind, email=True, advisor=False):\n",
    "    file.write(r'''{\\parindent=0pt'''+'\\n\\n')\n",
    "    file.write(r'''\\hypertarget{'''+ind+r'''}{\\talktitle{'''+data.loc[ind,'title']+'}}\\n\\n\\\\nopagebreak{}')\n",
    "    file.write(r'''\\centerline{%s, %s \\hfill \\hyperlink{%s}{$\\Uparrow$}}'''%(\n",
    "        data.loc[ind,'name'],data.loc[ind,'affiliation'],ind+'top')+'\\n\\n')\n",
    "    if email:\n",
    "        file.write(\", \".join(r\"\"\"\\url{%s}\"\"\"%addrs for addrs in data.loc[ind,'email'].split(\",\")) + '\\n\\n')\n",
    "    if advisor:\n",
    "        file.write(r\"\"\"Advisor: %s\"\"\"%data.loc[ind,'advisor'] + '\\n\\n')\n",
    "    file.write('}\\n\\n\\\\nopagebreak{}')\n",
    "    file.write(r'''\\vspace{0.5cm}'''+'\\n\\n\\\\nopagebreak{}')\n",
    "    file.write(data.loc[ind,'abstract']+'\\n\\n')\n",
    "    file.write(r'''\\btskip'''+'\\n\\n')\n",
    "    \n",
    "def write_name_title(file, data, advisor=False):\n",
    "    file.write(r'''{\\parindent=0pt'''+'\\n\\n')\n",
    "    for ind in data.index:\n",
    "        file.write(r'''\\hypertarget{%s}\\centerline{%s, %s \\hfill \\hyperlink{%s}{$\\Uparrow$}}'''%(\n",
    "            ind, \n",
    "            data.loc[ind,'name'], \n",
    "            data.loc[ind,'title'], \n",
    "            ind+'top')+'\\n\\n')\n",
    "        file.write(r\"\"\"Advisor: %s\"\"\"%data.loc[ind,'advisor'] + '\\n\\n')\n",
    "    file.write('}')"
   ]
  }
 ],
 "metadata": {
  "kernelspec": {
   "display_name": "Python 3 (ipykernel)",
   "language": "python",
   "name": "python3"
  },
  "language_info": {
   "codemirror_mode": {
    "name": "ipython",
    "version": 3
   },
   "file_extension": ".py",
   "mimetype": "text/x-python",
   "name": "python",
   "nbconvert_exporter": "python",
   "pygments_lexer": "ipython3",
   "version": "3.13.1"
  }
 },
 "nbformat": 4,
 "nbformat_minor": 2
}
